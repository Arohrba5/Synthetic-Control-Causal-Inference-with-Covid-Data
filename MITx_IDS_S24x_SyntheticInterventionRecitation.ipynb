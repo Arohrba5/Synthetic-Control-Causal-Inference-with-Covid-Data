{
  "nbformat": 4,
  "nbformat_minor": 0,
  "metadata": {
    "colab": {
      "provenance": [],
      "authorship_tag": "ABX9TyPoX6hiQJp5aAVfDNw5NbDL",
      "include_colab_link": true
    },
    "kernelspec": {
      "name": "python3",
      "display_name": "Python 3"
    },
    "language_info": {
      "name": "python"
    }
  },
  "cells": [
    {
      "cell_type": "markdown",
      "metadata": {
        "id": "view-in-github",
        "colab_type": "text"
      },
      "source": [
        "<a href=\"https://colab.research.google.com/github/Arohrba5/Synthetic-Control-Causal-Inference-with-Covid-Data/blob/main/MITx_IDS_S24x_SyntheticInterventionRecitation.ipynb\" target=\"_parent\"><img src=\"https://colab.research.google.com/assets/colab-badge.svg\" alt=\"Open In Colab\"/></a>"
      ]
    },
    {
      "cell_type": "code",
      "source": [
        "import pandas as pd\n",
        "import numpy as np\n",
        "import matplotlib.pyplot as plt"
      ],
      "metadata": {
        "id": "OqQlAb2CKtYD"
      },
      "execution_count": 13,
      "outputs": []
    },
    {
      "cell_type": "code",
      "source": [
        "# Define GitHub raw URLs for your data files\n",
        "data_file_url_1 = \"https://raw.githubusercontent.com/Arohrba5/Synthetic-Control-Causal-Inference-with-Covid-Data/main/data_global_data.csv\"\n",
        "data_file_url_2 = \"https://raw.githubusercontent.com/Arohrba5/Synthetic-Control-Causal-Inference-with-Covid-Data/main/data_global_mobility_report.csv\"\n",
        "\n",
        "# Load the data into pandas DataFrames\n",
        "data_global_data = pd.read_csv(data_file_url_1)\n",
        "data_global_mobility = pd.read_csv(data_file_url_2)\n",
        "\n",
        "# Display the first few rows of each dataset\n",
        "print(data_global_data.head())\n",
        "print(data_global_mobility.head())"
      ],
      "metadata": {
        "colab": {
          "base_uri": "https://localhost:8080/"
        },
        "id": "iKrc7JO_OXHX",
        "outputId": "a35854af-6b2c-44ad-d8ce-787180cab2bc"
      },
      "execution_count": 15,
      "outputs": [
        {
          "output_type": "stream",
          "name": "stdout",
          "text": [
            "       country      date  deaths  daily_deaths\n",
            "0  Afghanistan  01/23/20       0           0.0\n",
            "1  Afghanistan  01/24/20       0           0.0\n",
            "2  Afghanistan  01/25/20       0           0.0\n",
            "3  Afghanistan  01/26/20       0           0.0\n",
            "4  Afghanistan  01/27/20       0           0.0\n",
            "  country_region_code        country_region  sub_region_1  sub_region_2  \\\n",
            "0                  AE  United Arab Emirates           NaN           NaN   \n",
            "1                  AE  United Arab Emirates           NaN           NaN   \n",
            "2                  AE  United Arab Emirates           NaN           NaN   \n",
            "3                  AE  United Arab Emirates           NaN           NaN   \n",
            "4                  AE  United Arab Emirates           NaN           NaN   \n",
            "\n",
            "  metro_area  iso_3166_2_code  census_fips_code                     place_id  \\\n",
            "0        NaN              NaN               NaN  ChIJvRKrsd9IXj4RpwoIwFYv0zM   \n",
            "1        NaN              NaN               NaN  ChIJvRKrsd9IXj4RpwoIwFYv0zM   \n",
            "2        NaN              NaN               NaN  ChIJvRKrsd9IXj4RpwoIwFYv0zM   \n",
            "3        NaN              NaN               NaN  ChIJvRKrsd9IXj4RpwoIwFYv0zM   \n",
            "4        NaN              NaN               NaN  ChIJvRKrsd9IXj4RpwoIwFYv0zM   \n",
            "\n",
            "         date  retail_and_recreation_percent_change_from_baseline  \\\n",
            "0  2020-02-15                                                0.0    \n",
            "1  2020-02-16                                                1.0    \n",
            "2  2020-02-17                                               -1.0    \n",
            "3  2020-02-18                                               -2.0    \n",
            "4  2020-02-19                                               -2.0    \n",
            "\n",
            "   grocery_and_pharmacy_percent_change_from_baseline  \\\n",
            "0                                                4.0   \n",
            "1                                                4.0   \n",
            "2                                                1.0   \n",
            "3                                                1.0   \n",
            "4                                                0.0   \n",
            "\n",
            "   parks_percent_change_from_baseline  \\\n",
            "0                                 5.0   \n",
            "1                                 4.0   \n",
            "2                                 5.0   \n",
            "3                                 5.0   \n",
            "4                                 4.0   \n",
            "\n",
            "   transit_stations_percent_change_from_baseline  \\\n",
            "0                                            0.0   \n",
            "1                                            1.0   \n",
            "2                                            1.0   \n",
            "3                                            0.0   \n",
            "4                                           -1.0   \n",
            "\n",
            "   workplaces_percent_change_from_baseline  \\\n",
            "0                                      2.0   \n",
            "1                                      2.0   \n",
            "2                                      2.0   \n",
            "3                                      2.0   \n",
            "4                                      2.0   \n",
            "\n",
            "   residential_percent_change_from_baseline  \n",
            "0                                       1.0  \n",
            "1                                       1.0  \n",
            "2                                       1.0  \n",
            "3                                       1.0  \n",
            "4                                       1.0  \n"
          ]
        }
      ]
    }
  ]
}