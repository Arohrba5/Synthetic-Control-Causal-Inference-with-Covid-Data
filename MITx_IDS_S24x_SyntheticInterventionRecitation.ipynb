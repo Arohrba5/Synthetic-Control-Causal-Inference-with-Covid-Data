{
  "nbformat": 4,
  "nbformat_minor": 0,
  "metadata": {
    "colab": {
      "provenance": [],
      "authorship_tag": "ABX9TyPrjL0Ou+EKx5O4nehPZbMt",
      "include_colab_link": true
    },
    "kernelspec": {
      "name": "python3",
      "display_name": "Python 3"
    },
    "language_info": {
      "name": "python"
    }
  },
  "cells": [
    {
      "cell_type": "markdown",
      "metadata": {
        "id": "view-in-github",
        "colab_type": "text"
      },
      "source": [
        "<a href=\"https://colab.research.google.com/github/Arohrba5/Synthetic-Control-Causal-Inference-with-Covid-Data/blob/main/MITx_IDS_S24x_SyntheticInterventionRecitation.ipynb\" target=\"_parent\"><img src=\"https://colab.research.google.com/assets/colab-badge.svg\" alt=\"Open In Colab\"/></a>"
      ]
    },
    {
      "cell_type": "code",
      "source": [
        "import pandas as pd\n",
        "import numpy as np\n",
        "import matplotlib.pyplot as plt"
      ],
      "metadata": {
        "id": "OqQlAb2CKtYD"
      },
      "execution_count": 13,
      "outputs": []
    },
    {
      "cell_type": "markdown",
      "source": [
        "Load Data"
      ],
      "metadata": {
        "id": "X9bpxLtUaGB6"
      }
    },
    {
      "cell_type": "code",
      "source": [
        "# Define GitHub raw URLs for your data files\n",
        "data_file_url_1 = \"https://raw.githubusercontent.com/Arohrba5/Synthetic-Control-Causal-Inference-with-Covid-Data/main/data_global_data.csv\"\n",
        "data_file_url_2 = \"https://raw.githubusercontent.com/Arohrba5/Synthetic-Control-Causal-Inference-with-Covid-Data/main/data_global_mobility_report.csv\"\n",
        "\n",
        "# Load the data into pandas DataFrames\n",
        "covid_df = pd.read_csv(data_file_url_1)\n",
        "mobility_df = pd.read_csv(data_file_url_2)\n",
        "\n",
        "# Display the first few rows of each dataset\n",
        "print(covid_df.head())\n",
        "print(mobility_df.head())"
      ],
      "metadata": {
        "colab": {
          "base_uri": "https://localhost:8080/"
        },
        "collapsed": true,
        "id": "iKrc7JO_OXHX",
        "outputId": "6e542fa5-4d09-497a-8424-79caefc04558"
      },
      "execution_count": 27,
      "outputs": [
        {
          "output_type": "stream",
          "name": "stdout",
          "text": [
            "       country      date  deaths  daily_deaths\n",
            "0  Afghanistan  01/23/20       0           0.0\n",
            "1  Afghanistan  01/24/20       0           0.0\n",
            "2  Afghanistan  01/25/20       0           0.0\n",
            "3  Afghanistan  01/26/20       0           0.0\n",
            "4  Afghanistan  01/27/20       0           0.0\n",
            "  country_region_code        country_region  sub_region_1  sub_region_2  \\\n",
            "0                  AE  United Arab Emirates           NaN           NaN   \n",
            "1                  AE  United Arab Emirates           NaN           NaN   \n",
            "2                  AE  United Arab Emirates           NaN           NaN   \n",
            "3                  AE  United Arab Emirates           NaN           NaN   \n",
            "4                  AE  United Arab Emirates           NaN           NaN   \n",
            "\n",
            "  metro_area  iso_3166_2_code  census_fips_code                     place_id  \\\n",
            "0        NaN              NaN               NaN  ChIJvRKrsd9IXj4RpwoIwFYv0zM   \n",
            "1        NaN              NaN               NaN  ChIJvRKrsd9IXj4RpwoIwFYv0zM   \n",
            "2        NaN              NaN               NaN  ChIJvRKrsd9IXj4RpwoIwFYv0zM   \n",
            "3        NaN              NaN               NaN  ChIJvRKrsd9IXj4RpwoIwFYv0zM   \n",
            "4        NaN              NaN               NaN  ChIJvRKrsd9IXj4RpwoIwFYv0zM   \n",
            "\n",
            "         date  retail_and_recreation_percent_change_from_baseline  \\\n",
            "0  2020-02-15                                                0.0    \n",
            "1  2020-02-16                                                1.0    \n",
            "2  2020-02-17                                               -1.0    \n",
            "3  2020-02-18                                               -2.0    \n",
            "4  2020-02-19                                               -2.0    \n",
            "\n",
            "   grocery_and_pharmacy_percent_change_from_baseline  \\\n",
            "0                                                4.0   \n",
            "1                                                4.0   \n",
            "2                                                1.0   \n",
            "3                                                1.0   \n",
            "4                                                0.0   \n",
            "\n",
            "   parks_percent_change_from_baseline  \\\n",
            "0                                 5.0   \n",
            "1                                 4.0   \n",
            "2                                 5.0   \n",
            "3                                 5.0   \n",
            "4                                 4.0   \n",
            "\n",
            "   transit_stations_percent_change_from_baseline  \\\n",
            "0                                            0.0   \n",
            "1                                            1.0   \n",
            "2                                            1.0   \n",
            "3                                            0.0   \n",
            "4                                           -1.0   \n",
            "\n",
            "   workplaces_percent_change_from_baseline  \\\n",
            "0                                      2.0   \n",
            "1                                      2.0   \n",
            "2                                      2.0   \n",
            "3                                      2.0   \n",
            "4                                      2.0   \n",
            "\n",
            "   residential_percent_change_from_baseline  \n",
            "0                                       1.0  \n",
            "1                                       1.0  \n",
            "2                                       1.0  \n",
            "3                                       1.0  \n",
            "4                                       1.0  \n"
          ]
        }
      ]
    },
    {
      "cell_type": "markdown",
      "source": [
        "Data Preprocessing - Covid Dataset"
      ],
      "metadata": {
        "id": "2tfqVWj5aToS"
      }
    },
    {
      "cell_type": "code",
      "source": [
        "# Examine covid dataset\n",
        "print(covid_df.head())"
      ],
      "metadata": {
        "colab": {
          "base_uri": "https://localhost:8080/"
        },
        "id": "WcNfRxg2T1AR",
        "outputId": "fa854b78-f648-4891-be90-65d6bbfacef0"
      },
      "execution_count": 28,
      "outputs": [
        {
          "output_type": "stream",
          "name": "stdout",
          "text": [
            "       country      date  deaths  daily_deaths\n",
            "0  Afghanistan  01/23/20       0           0.0\n",
            "1  Afghanistan  01/24/20       0           0.0\n",
            "2  Afghanistan  01/25/20       0           0.0\n",
            "3  Afghanistan  01/26/20       0           0.0\n",
            "4  Afghanistan  01/27/20       0           0.0\n"
          ]
        }
      ]
    },
    {
      "cell_type": "code",
      "source": [
        "# Examine US rows of covid dataset\n",
        "print(covid_df[covid_df['country'] == 'US'].head(5))"
      ],
      "metadata": {
        "colab": {
          "base_uri": "https://localhost:8080/"
        },
        "id": "TNT92PAZcCFa",
        "outputId": "9611e631-d763-4101-bffe-1e02fbe50b03"
      },
      "execution_count": 29,
      "outputs": [
        {
          "output_type": "stream",
          "name": "stdout",
          "text": [
            "       country      date  deaths  daily_deaths\n",
            "201996      US  01/23/20       0           0.0\n",
            "201997      US  01/24/20       0           0.0\n",
            "201998      US  01/25/20       0           0.0\n",
            "201999      US  01/26/20       0           0.0\n",
            "202000      US  01/27/20       0           0.0\n"
          ]
        }
      ]
    },
    {
      "cell_type": "code",
      "source": [
        "# Convert dates into datatime object\n",
        "covid_df['date'] = pd.to_datetime(covid_df['date'])\n",
        "print(covid_df.head())"
      ],
      "metadata": {
        "colab": {
          "base_uri": "https://localhost:8080/"
        },
        "id": "0CsFpM-ucs1f",
        "outputId": "dbf279ae-36bc-482d-c523-71939c304aa5"
      },
      "execution_count": 32,
      "outputs": [
        {
          "output_type": "stream",
          "name": "stdout",
          "text": [
            "       country       date  deaths  daily_deaths\n",
            "0  Afghanistan 2020-01-23       0           0.0\n",
            "1  Afghanistan 2020-01-24       0           0.0\n",
            "2  Afghanistan 2020-01-25       0           0.0\n",
            "3  Afghanistan 2020-01-26       0           0.0\n",
            "4  Afghanistan 2020-01-27       0           0.0\n"
          ]
        }
      ]
    },
    {
      "cell_type": "code",
      "source": [
        "# Convert US to United States, to match other dataset\n",
        "covid_df = covid_df.map(lambda x: \"United States\" if x == 'US' else x)\n",
        "print(covid_df.loc[201996:202000])"
      ],
      "metadata": {
        "colab": {
          "base_uri": "https://localhost:8080/"
        },
        "id": "GGxH_ITnd5Bj",
        "outputId": "caa0e199-e856-4071-8a00-7956551f6140"
      },
      "execution_count": 37,
      "outputs": [
        {
          "output_type": "stream",
          "name": "stdout",
          "text": [
            "              country       date  deaths  daily_deaths\n",
            "201996  United States 2020-01-23       0           0.0\n",
            "201997  United States 2020-01-24       0           0.0\n",
            "201998  United States 2020-01-25       0           0.0\n",
            "201999  United States 2020-01-26       0           0.0\n",
            "202000  United States 2020-01-27       0           0.0\n"
          ]
        }
      ]
    }
  ]
}